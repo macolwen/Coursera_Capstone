{
    "cells": [
        {
            "cell_type": "markdown",
            "metadata": {
                "collapsed": true
            },
            "source": "# The Battle of Neighborhoods: Exploring Montreal Neighborhoods to find the best location for Korean restaurant."
        },
        {
            "cell_type": "markdown",
            "metadata": {},
            "source": "## Part I. Introduction/Business Problem"
        },
        {
            "cell_type": "markdown",
            "metadata": {},
            "source": "Montreal is the second-most populous city in Canada and most populous city in the Canadian province of Quebec. Montreal has the second-largest economy in Canada based on GDP and the largest in Quebec. The city is today an important center of commerce, finance, industry, technology, culture and world affairs. Montreal was referred to as \"Canada's Cultural Capital\" as well. The city's many cultural communities have given it a distinct local culture.                                                                                                                                          "
        },
        {
            "cell_type": "markdown",
            "metadata": {},
            "source": "This project aims at exploring and segmenting the city of Montreal to give the recommendations to potential investors which were looking for the best place to open the Korean restaurant."
        },
        {
            "cell_type": "markdown",
            "metadata": {},
            "source": "## Part II. Data Description."
        },
        {
            "cell_type": "markdown",
            "metadata": {},
            "source": "\u2022\tWe will use the Wikipedia data \u201cList of postal codes of Canada: H\u201d for the Metropolitan Montreal (https://en.wikipedia.org/wiki/List_of_postal_codes_of_Canada:_H) to get the information of the postal-codes and boroughs/neighborhoods names.  The data from the Wikipedia page will be scrapped and wrangled, cleaned and then read it into a pandas dataframe."
        },
        {
            "cell_type": "markdown",
            "metadata": {},
            "source": "\u2022\tTo get the spatial date (latitude and longitude) we will be using the Open-source geocoding Nominatim from geopy. Latitude and longitude will be added to pandas dataframe."
        },
        {
            "cell_type": "markdown",
            "metadata": {},
            "source": "\u2022\tWe will use Foursquare API to get the common venues in each neighborhood and then use this feature to group the neighborhoods into clusters to determine the best possible fit for the Korean restaurant."
        }
    ],
    "metadata": {
        "kernelspec": {
            "display_name": "Python 3.7",
            "language": "python",
            "name": "python3"
        },
        "language_info": {
            "codemirror_mode": {
                "name": "ipython",
                "version": 3
            },
            "file_extension": ".py",
            "mimetype": "text/x-python",
            "name": "python",
            "nbconvert_exporter": "python",
            "pygments_lexer": "ipython3",
            "version": "3.7.10"
        }
    },
    "nbformat": 4,
    "nbformat_minor": 1
}